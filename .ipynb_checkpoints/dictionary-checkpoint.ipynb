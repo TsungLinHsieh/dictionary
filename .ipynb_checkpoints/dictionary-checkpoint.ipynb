{
 "cells": [
  {
   "cell_type": "markdown",
   "metadata": {},
   "source": [
    " <font color='blue'>Build my own dictionary!</font>"
   ]
  },
  {
   "cell_type": "code",
   "execution_count": 2,
   "metadata": {},
   "outputs": [
    {
     "name": "stdout",
     "output_type": "stream",
     "text": [
      "dict_keys(['tea', 'juice', 'stone', 'chemistry', 'deliberate', 'dog', 'create', 'boss'])\n",
      "dict_values(['茶', '果汁', '石頭', '化學', '深思熟慮的 蓄意的', '狗', '創造', '老闆'])\n"
     ]
    }
   ],
   "source": [
    "words = {\n",
    "    \n",
    "}\n",
    "\n",
    "words['tea'] = '茶'  #增加辭典單字            \n",
    "\n",
    "def read_file(filename):\n",
    "    lines = []\n",
    "    with open(filename, 'r', encoding = 'utf-8') as f:\n",
    "        for line in f:\n",
    "            lines.append(line.strip())\n",
    "        return lines    \n",
    "\n",
    "def split(lines):\n",
    "    new = []\n",
    "    for line in lines:\n",
    "        new.append(line.split(', '))\n",
    "    # print(new, '\\n')\n",
    "    return new\n",
    "\n",
    "def add(lines):\n",
    "    for line in lines:\n",
    "        key = line[0]\n",
    "        value = line[1]\n",
    "        words[key] = value\n",
    "    return words\n",
    "\n",
    "def lookup():\n",
    "    start = True\n",
    "    while start:\n",
    "        s = input().lower()\n",
    "        for key, value in words.items():\n",
    "            if s == key:\n",
    "                print (s, ':', value)\n",
    "\n",
    "            elif s == value:\n",
    "                print (s, ':', key)\n",
    "                \n",
    "        if s == 'break':\n",
    "            start =  False\n",
    "            \n",
    "def count():\n",
    "    return len(words.keys())\n",
    "\n",
    "def test():  \n",
    "    \n",
    "    def lookup(answer):\n",
    "        \n",
    "        for key, value in words.items():\n",
    "            if answer == key:\n",
    "                return value\n",
    "\n",
    "            elif answer == value:\n",
    "                return key\n",
    "                \n",
    "    import random\n",
    "    bad_words = ['笨死了', '天啊! 這個你也不會', '我傻眼', '我的老天鵝啊...', '兩歲?']\n",
    "    \n",
    "    choice = input('回答英文or中文?')\n",
    "    \n",
    "    if choice == '中文':\n",
    "        while True:\n",
    "            key = random.choice(list(words))   \n",
    "            print(f'what does {key} mean?')\n",
    "            answer = input('answer: ')\n",
    "            if answer == words[key]:\n",
    "                print('好棒棒!')\n",
    "                break\n",
    "            else:\n",
    "                print(random.choice(list(bad_words)))\n",
    "                \n",
    "                \n",
    "    if choice == '英文':\n",
    "                 \n",
    "        while True:\n",
    "            value = words[random.choice(list(words))]\n",
    "            print(f'{value} 是甚麼意思?')\n",
    "            answer = input('answer: ')\n",
    "            if answer == lookup(value):\n",
    "                print('好棒棒!')\n",
    "                break\n",
    "            else:\n",
    "                print(random.choice(list(bad_words)))\n",
    "                \n",
    "\n",
    "def main():\n",
    "    lines = read_file('Walter_dictionary.txt')\n",
    "    lines = split(lines)\n",
    "    add(lines)\n",
    "    print(words.keys()) #show the present key in the dictionary\n",
    "    print(words.values()) #show the present value in the dictionary\n",
    "\n",
    "main()\n"
   ]
  },
  {
   "cell_type": "code",
   "execution_count": 3,
   "metadata": {},
   "outputs": [
    {
     "name": "stdout",
     "output_type": "stream",
     "text": [
      "回答英文or中文?英文\n",
      "老闆 是甚麼意思?\n",
      "answer: j\n",
      "我傻眼\n",
      "老闆 是甚麼意思?\n",
      "answer: j\n",
      "我的老天鵝啊...\n",
      "果汁 是甚麼意思?\n",
      "answer: d\n",
      "我傻眼\n",
      "狗 是甚麼意思?\n",
      "answer: d\n",
      "笨死了\n",
      "果汁 是甚麼意思?\n",
      "answer: d\n",
      "笨死了\n",
      "果汁 是甚麼意思?\n",
      "answer: d\n",
      "天啊! 這個你也不會\n",
      "深思熟慮的 蓄意的 是甚麼意思?\n",
      "answer: deliberate\n",
      "好棒棒!\n"
     ]
    }
   ],
   "source": [
    "test()"
   ]
  },
  {
   "cell_type": "code",
   "execution_count": null,
   "metadata": {},
   "outputs": [],
   "source": []
  }
 ],
 "metadata": {
  "kernelspec": {
   "display_name": "Python 3",
   "language": "python",
   "name": "python3"
  },
  "language_info": {
   "codemirror_mode": {
    "name": "ipython",
    "version": 3
   },
   "file_extension": ".py",
   "mimetype": "text/x-python",
   "name": "python",
   "nbconvert_exporter": "python",
   "pygments_lexer": "ipython3",
   "version": "3.7.4"
  }
 },
 "nbformat": 4,
 "nbformat_minor": 2
}
